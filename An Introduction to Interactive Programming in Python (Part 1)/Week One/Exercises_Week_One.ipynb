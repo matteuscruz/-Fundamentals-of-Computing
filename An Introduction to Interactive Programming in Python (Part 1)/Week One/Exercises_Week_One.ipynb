{
  "nbformat": 4,
  "nbformat_minor": 0,
  "metadata": {
    "colab": {
      "provenance": []
    },
    "kernelspec": {
      "name": "python3",
      "display_name": "Python 3"
    },
    "language_info": {
      "name": "python"
    }
  },
  "cells": [
    {
      "cell_type": "markdown",
      "source": [
        "# Introduction"
      ],
      "metadata": {
        "id": "oTKDyIbxWjR7"
      }
    },
    {
      "cell_type": "code",
      "execution_count": 3,
      "metadata": {
        "colab": {
          "base_uri": "https://localhost:8080/"
        },
        "id": "FkQU93UoOLHF",
        "outputId": "2247978a-2bcc-4c89-e3d3-da85ac51d0e6"
      },
      "outputs": [
        {
          "output_type": "stream",
          "name": "stdout",
          "text": [
            "68640\n"
          ]
        }
      ],
      "source": [
        "# Compute the number of feet corresponding to a number of miles.\n",
        "\n",
        "###################################################\n",
        "# Miles to feet conversion formula\n",
        "def feet_to_miles(miles):\n",
        "  feet = miles * 5280\n",
        "  return feet\n",
        "  \n",
        "# Student should enter statement on the next line.\n",
        "print(feet_to_miles(13))\n",
        "\n",
        "###################################################\n",
        "# Expected output\n",
        "# Student should look at the following comments and compare to printed output.\n",
        "\n",
        "#68640"
      ]
    },
    {
      "cell_type": "code",
      "source": [
        "# Compute the number of seconds in a given number of hours, minutes, and seconds.\n",
        "\n",
        "###################################################\n",
        "# Hours, minutes, and seconds to seconds conversion formula\n",
        "def seconds_convertion(hours, minutes, seconds):\n",
        "  seconds = seconds\n",
        "  seconds = seconds + (minutes * 60)\n",
        "  seconds = seconds + ((hours * 60) * 60)\n",
        "  return seconds\n",
        "# Student should enter statement on the next line.\n",
        "print(seconds_convertion(7,21,37))\n",
        "\n",
        "###################################################\n",
        "# Expected output\n",
        "# Student should look at the following comments and compare to printed output.\n",
        "\n",
        "#26497"
      ],
      "metadata": {
        "colab": {
          "base_uri": "https://localhost:8080/"
        },
        "id": "vTKP5hAXQcHV",
        "outputId": "966f69e8-0168-4027-a26e-3c455af901f1"
      },
      "execution_count": 5,
      "outputs": [
        {
          "output_type": "stream",
          "name": "stdout",
          "text": [
            "26497\n"
          ]
        }
      ]
    },
    {
      "cell_type": "code",
      "source": [
        "# Compute the length of a rectangle's perimeter, given its width and height.\n",
        "\n",
        "###################################################\n",
        "# Rectangle perimeter formula\n",
        "def retangle_area(w, h):\n",
        "  area = 2*w + 2*h\n",
        "  return area\n",
        "# Student should enter statement on the next line.\n",
        "print(retangle_area(4,7))\n",
        "\n",
        "###################################################\n",
        "# Expected output\n",
        "# Student should look at the following comments and compare to printed output.\n",
        "\n",
        "#22"
      ],
      "metadata": {
        "colab": {
          "base_uri": "https://localhost:8080/"
        },
        "id": "L0UVIQyyRcEI",
        "outputId": "d2792b53-1afb-4231-8ebd-1b4d4670db75"
      },
      "execution_count": 6,
      "outputs": [
        {
          "output_type": "stream",
          "name": "stdout",
          "text": [
            "22\n"
          ]
        }
      ]
    },
    {
      "cell_type": "code",
      "source": [
        "# Compute the area of a circle, given the length of its radius.\n",
        "\n",
        "###################################################\n",
        "# Circle area formula\n",
        "def circle_area(r):\n",
        "  area = 3.14 * (r*r)\n",
        "  return area\n",
        "# Student should enter statement on the next line.\n",
        "print(circle_area(8))\n",
        "\n",
        "###################################################\n",
        "# Expected output\n",
        "# Student should look at the following comments and compare to printed output.\n",
        "\n",
        "#200.96"
      ],
      "metadata": {
        "colab": {
          "base_uri": "https://localhost:8080/"
        },
        "id": "MJOvcy7RSH1g",
        "outputId": "f0d74663-5ec4-4b53-99d7-5bdc6115273c"
      },
      "execution_count": 9,
      "outputs": [
        {
          "output_type": "stream",
          "name": "stdout",
          "text": [
            "200.96\n"
          ]
        }
      ]
    },
    {
      "cell_type": "code",
      "source": [
        "# Compute the future value of a given present value, annual rate, and number of years.\n",
        "\n",
        "###################################################\n",
        "# Future value formula\n",
        "def future_value(dolars, r, y):\n",
        "  res = dolars * (1 + 0.01 * r)**(y)\n",
        "  return res\n",
        "# Student should enter statement on the next line.\n",
        "print(future_value(10000, 7, 10))\n",
        "\n",
        "\n",
        "###################################################\n",
        "# Expected output\n",
        "# Student should look at the following comments and compare to printed output.\n",
        "\n",
        "#1967.15135729"
      ],
      "metadata": {
        "colab": {
          "base_uri": "https://localhost:8080/"
        },
        "id": "4gSbPS3kSgW5",
        "outputId": "b51f97d7-9178-40fc-9a39-f500fed4473d"
      },
      "execution_count": 15,
      "outputs": [
        {
          "output_type": "stream",
          "name": "stdout",
          "text": [
            "19671.513572895663\n"
          ]
        }
      ]
    },
    {
      "cell_type": "code",
      "source": [
        "# Compute a name tag, given the first and last name.\n",
        "\n",
        "###################################################\n",
        "# Name tag formula\n",
        "print(\"My name is \" + \"Joe \" + \"Warren\")\n",
        "# Student should enter statement on the next line.\n",
        "\n",
        "\n",
        "###################################################\n",
        "# Expected output\n",
        "# Student should look at the following comments and compare to printed output.\n",
        "\n",
        "#My name is Joe Warren."
      ],
      "metadata": {
        "colab": {
          "base_uri": "https://localhost:8080/"
        },
        "id": "LwjRJYGdVjdi",
        "outputId": "df18d591-4de9-40be-a332-f3bcbef1df81"
      },
      "execution_count": 18,
      "outputs": [
        {
          "output_type": "stream",
          "name": "stdout",
          "text": [
            "My name is Joe Warren\n"
          ]
        }
      ]
    },
    {
      "cell_type": "code",
      "source": [
        "# Compute a name tag, given the first and last name.\n",
        "\n",
        "###################################################\n",
        "# Name tag formula\n",
        "\n",
        "# Student should enter statement on the next line.\n",
        "print(\"Joe Warren\" + \" is \" + str(52) + \" years old.\")\n",
        "\n",
        "###################################################\n",
        "# Expected output\n",
        "# Student should look at the following comments and compare to printed output.\n",
        "\n",
        "#My name is Joe Warren."
      ],
      "metadata": {
        "colab": {
          "base_uri": "https://localhost:8080/"
        },
        "id": "t1UUE4DaUsVJ",
        "outputId": "5ebf0550-c65e-42c6-cab8-722b248709b7"
      },
      "execution_count": 17,
      "outputs": [
        {
          "output_type": "stream",
          "name": "stdout",
          "text": [
            "Joe Warren is 52 years old.\n"
          ]
        }
      ]
    },
    {
      "cell_type": "code",
      "source": [
        "# Compute the distance between the points (x0, y0) and (x1, y1).\n",
        "\n",
        "###################################################\n",
        "# Distance formula\n",
        "def dist_formula(x0,y0,x1,y1):\n",
        "  res = (((x0-x1)**2)+((y0-y1)**2))**(0.5)\n",
        "  return res\n",
        "# Student should enter statement on the next line.\n",
        "print(dist_formula(2,2,5,6))\n",
        "# Hint: You need to use the power operation ** .\n",
        "\n",
        "\n",
        "###################################################\n",
        "# Expected output\n",
        "# Student should look at the following comments and compare to printed output.\n",
        "\n",
        "#5.0"
      ],
      "metadata": {
        "colab": {
          "base_uri": "https://localhost:8080/"
        },
        "id": "9wgIhIk9VdoT",
        "outputId": "55113f61-46df-40b5-c366-fb3b131d75c9"
      },
      "execution_count": 20,
      "outputs": [
        {
          "output_type": "stream",
          "name": "stdout",
          "text": [
            "5.0\n"
          ]
        }
      ]
    },
    {
      "cell_type": "markdown",
      "source": [
        "# Variables"
      ],
      "metadata": {
        "id": "3_tjlYzVWgXq"
      }
    },
    {
      "cell_type": "code",
      "source": [
        "# Compute the number of feet corresponding to a number of miles.\n",
        "\n",
        "###################################################\n",
        "# Tests\n",
        "# Student should uncomment ONLY ONE of the following at a time.\n",
        "def feet_to_miles(miles):\n",
        "  feet = miles * 5280\n",
        "  return feet\n",
        "\n",
        "# Test 1 - Select the following lines and use ctrl+shift+k to uncomment.\n",
        "miles = 13\n",
        "feet = feet_to_miles(miles)\n",
        "print(str(miles) + \" miles equals \" + str(feet) + \" feet.\")\n",
        "\n",
        "\n",
        "# Test 2 - Select the following lines and use ctrl+shift+k to uncomment.\n",
        "miles = 57\n",
        "feet = feet_to_miles(miles)\n",
        "print(str(miles) + \" miles equals \" + str(feet) + \" feet.\")\n",
        "\n",
        "# Test 3 - Select the following lines and use ctrl+shift+k to uncomment.\n",
        "miles = 82.67\n",
        "feet = feet_to_miles(miles)\n",
        "print(str(miles) + \" miles equals \" + str(feet) + \" feet.\")\n",
        "\n",
        "###################################################\n",
        "# Miles to feet conversion formula\n",
        "# Student should enter formula on the next line.\n",
        "\n",
        "\n",
        "\n",
        "###################################################\n",
        "# Test output\n",
        "# Student should not change this code.\n",
        "#print(str(miles) + \" miles equals \" + str(feet) + \" feet.\")\n",
        "\n",
        "###################################################\n",
        "# Expected output\n",
        "# Student should look at the following comments and compare to printed output.\n",
        "\n",
        "# Test 1 output:\n",
        "#13 miles equals 68640 feet.\n",
        "\n",
        "# Test 2 output:\n",
        "#57 miles equals 300960 feet.\n",
        "\n",
        "# Test 3 output:\n",
        "#82.67 miles equals 436497.6 feet."
      ],
      "metadata": {
        "colab": {
          "base_uri": "https://localhost:8080/"
        },
        "id": "XwPY9S5LWE5e",
        "outputId": "8e55e9f6-fd0c-4409-fd0a-7f6de871f015"
      },
      "execution_count": 27,
      "outputs": [
        {
          "output_type": "stream",
          "name": "stdout",
          "text": [
            "13 miles equals 68640 feet.\n",
            "57 miles equals 300960 feet.\n",
            "82.67 miles equals 436497.60000000003 feet.\n"
          ]
        }
      ]
    },
    {
      "cell_type": "code",
      "source": [
        "# Compute the number of seconds in a given number of hours, minutes, and seconds.\n",
        "\n",
        "###################################################\n",
        "# Tests\n",
        "# Student should uncomment ONLY ONE of the following at a time.\n",
        "\n",
        "# Test 1 - Select the following lines and use ctrl+shift+k to uncomment.\n",
        "hours = 7\n",
        "minutes = 21\n",
        "seconds = 37\n",
        "\n",
        "def seconds_convertion(hours, minutes, seconds):\n",
        "  seconds = seconds\n",
        "  seconds = seconds + (minutes * 60)\n",
        "  seconds = seconds + ((hours * 60) * 60)\n",
        "  return seconds\n",
        "\n",
        "total_seconds = seconds_convertion(7,21,37)\n",
        "print(str(hours) + \" hours, \" + str(minutes) + \" minutes, and \" + str(seconds) + \" seconds totals to \" + str(total_seconds) + \" seconds.\")\n",
        "\n",
        "# Test 2 - Select the following lines and use ctrl+shift+k to uncomment.\n",
        "hours = 10\n",
        "minutes = 1\n",
        "seconds = 7\n",
        "\n",
        "def seconds_convertion(hours, minutes, seconds):\n",
        "  seconds = seconds\n",
        "  seconds = seconds + (minutes * 60)\n",
        "  seconds = seconds + ((hours * 60) * 60)\n",
        "  return seconds\n",
        "\n",
        "total_seconds = seconds_convertion(7,21,37)\n",
        "print(str(hours) + \" hours, \" + str(minutes) + \" minutes, and \" + str(seconds) + \" seconds totals to \" + str(total_seconds) + \" seconds.\")\n",
        "\n",
        "\n",
        "# Test 3 - Select the following lines and use ctrl+shift+k to uncomment.\n",
        "hours = 1\n",
        "minutes = 0\n",
        "seconds = 1\n",
        "\n",
        "def seconds_convertion(hours, minutes, seconds):\n",
        "  seconds = seconds\n",
        "  seconds = seconds + (minutes * 60)\n",
        "  seconds = seconds + ((hours * 60) * 60)\n",
        "  return seconds\n",
        "\n",
        "total_seconds = seconds_convertion(7,21,37)\n",
        "print(str(hours) + \" hours, \" + str(minutes) + \" minutes, and \" + str(seconds) + \" seconds totals to \" + str(total_seconds) + \" seconds.\")\n",
        "\n",
        "\n",
        "###################################################\n",
        "# Hours, minutes, and seconds to seconds conversion formula\n",
        "# Student should enter formula on the next line.\n",
        "\n",
        "\n",
        "\n",
        "###################################################\n",
        "# Test output\n",
        "# Student should not change this code.\n",
        "\n",
        "#print(str(hours) + \" hours, \" + str(minutes) + \" minutes, and\" + str(seconds) + \" seconds totals to \" + str(total_seconds) + \" seconds.\")\n",
        "\n",
        "\n",
        "###################################################\n",
        "# Expected output\n",
        "# Student should look at the following comments and compare to printed output.\n",
        "\n",
        "# Test 1 output:\n",
        "# Test 1 output:\n",
        "#7 hours, 21 minutes, and 37 seconds totals to 26497 seconds.\n",
        "\n",
        "# Test 2 output:\n",
        "#10 hours, 1 minutes, and 7 seconds totals to 36067 seconds.\n",
        "\n",
        "# Test 3 output:\n",
        "#1 hours, 0 minutes, and 1 seconds totals to 3601 seconds."
      ],
      "metadata": {
        "colab": {
          "base_uri": "https://localhost:8080/"
        },
        "id": "Df7Nltv4YL8Z",
        "outputId": "254da18f-4f5b-4763-a233-f1d7cfe8a28b"
      },
      "execution_count": 34,
      "outputs": [
        {
          "output_type": "stream",
          "name": "stdout",
          "text": [
            "7 hours, 21 minutes, and 37 seconds totals to 26497 seconds.\n",
            "10 hours, 1 minutes, and 7 seconds totals to 26497 seconds.\n",
            "1 hours, 0 minutes, and 1 seconds totals to 26497 seconds.\n"
          ]
        }
      ]
    },
    {
      "cell_type": "code",
      "source": [
        "# Compute the length of a rectangle's perimeter, given its width and height.\n",
        "\n",
        "###################################################\n",
        "# Tests\n",
        "# Student should uncomment ONLY ONE of the following at a time.\n",
        "\n",
        "# Test 1 - Select the following lines and use ctrl+shift+k to uncomment.\n",
        "width = 4\n",
        "height = 7\n",
        "\n",
        "def retangle_area(width, height):\n",
        "  area = 2*width + 2*height\n",
        "  return area\n",
        "  \n",
        "perimeter = retangle_area(width,height)\n",
        "print(\"A rectangle \" + str(width) + \" inches wide and \" + str(height),\n",
        "      \"inches high has a perimeter of \" + str(perimeter) + \" inches.\")\n",
        "\n",
        "# Test 2 - Select the following lines and use ctrl+shift+k to uncomment.\n",
        "width = 7\n",
        "height = 4\n",
        "\n",
        "def retangle_area(width, height):\n",
        "  area = 2*width + 2*height\n",
        "  return area\n",
        "  \n",
        "perimeter = retangle_area(width,height)\n",
        "print(\"A rectangle \" + str(width) + \" inches wide and \" + str(height),\n",
        "      \"inches high has a perimeter of \" + str(perimeter) + \" inches.\")\n",
        "\n",
        "# Test 3 - Select the following lines and use ctrl+shift+k to uncomment.\n",
        "width = 10\n",
        "height = 10\n",
        "\n",
        "def retangle_area(width, height):\n",
        "  area = (2*width + 2*height)\n",
        "  return area\n",
        "  \n",
        "perimeter = retangle_area(width,height)\n",
        "print(\"A rectangle \" + str(width) + \" inches wide and \" + str(height),\n",
        "      \"inches high has a perimeter of \" + str(perimeter) + \" inches.\")\n",
        "\n",
        "###################################################\n",
        "# Rectangle perimeter formula\n",
        "# Student should enter formula on the next line.\n",
        "\n",
        "\n",
        "\n",
        "###################################################\n",
        "# Test output\n",
        "# Student should not change this code.\n",
        "\n",
        "#print(\"A rectangle \" + str(width) + \" inches wide and \" + str(height),\n",
        "#      \"inches high has a perimeter of \" + str(perimeter) + \" inches.\")\n",
        "\n",
        "\n",
        "###################################################\n",
        "# Expected output\n",
        "# Student should look at the following comments and compare to printed output.\n",
        "\n",
        "# Test 1 output:\n",
        "#A rectangle 4 inches wide and 7 inches high has a perimeter of 22 inches.\n",
        "\n",
        "# Test 2 output:\n",
        "#A rectangle 7 inches wide and 4 inches high has a perimeter of 22 inches.\n",
        "\n",
        "# Test 3 output:\n",
        "#A rectangle 10 inches wide and 10 inches high has a perimeter of 40 inches.\n"
      ],
      "metadata": {
        "colab": {
          "base_uri": "https://localhost:8080/"
        },
        "id": "eZH5lXpaZYta",
        "outputId": "f2b99d17-5e72-4e2b-d9de-87ae6aa61a65"
      },
      "execution_count": 47,
      "outputs": [
        {
          "output_type": "stream",
          "name": "stdout",
          "text": [
            "A rectangle 4 inches wide and 7 inches high has a perimeter of 22 inches.\n",
            "A rectangle 7 inches wide and 4 inches high has a perimeter of 22 inches.\n",
            "A rectangle 10 inches wide and 10 inches high has a perimeter of 40 inches.\n"
          ]
        }
      ]
    },
    {
      "cell_type": "code",
      "source": [
        "# Compute the circumference of a circle, given the length of its radius.\n",
        "\n",
        "###################################################\n",
        "# Tests\n",
        "# Student should uncomment ONLY ONE of the following at a time.\n",
        "PI = 3.14\n",
        "\n",
        "# Test 1 - Select the following lines and use ctrl+shift+k to uncomment.\n",
        "radius = 8\n",
        "\n",
        "def circle_area(PI, radius):\n",
        "  area = PI * (radius * radius)\n",
        "  return area\n",
        "\n",
        "circumference = circle_area(PI, radius)\n",
        "\n",
        "print(\"A circle with a radius of \" + str(radius),\n",
        "     \"inches has a area of \" + str(circumference) + \" inches.\")\n",
        "\n",
        "# Test 2 - Select the following lines and use ctrl+shift+k to uncomment.\n",
        "radius = 3\n",
        "\n",
        "def circle_area(PI, radius):\n",
        "  area = PI * (radius * radius)\n",
        "  return area\n",
        "\n",
        "circumference = circle_area(PI, radius)\n",
        "\n",
        "print(\"A circle with a radius of \" + str(radius),\n",
        "     \"inches has a area of \" + str(circumference) + \" inches.\")\n",
        "\n",
        "# Test 3 - Select the following lines and use ctrl+shift+k to uncomment.\n",
        "radius = 12.9\n",
        "\n",
        "def circle_area(PI, radius):\n",
        "  area = PI * (radius * radius)\n",
        "  return area\n",
        "\n",
        "circumference = circle_area(PI, radius)\n",
        "\n",
        "print(\"A circle with a radius of \" + str(radius),\n",
        "     \"inches has a area of \" + str(circumference) + \" inches.\")\n",
        "\n",
        "###################################################\n",
        "# Circle circumference formula\n",
        "# Student should enter formula on the next line.\n",
        "\n",
        "\n",
        "\n",
        "###################################################\n",
        "# Test output\n",
        "# Student should not change this code.\n",
        "\n",
        "#print(\"A circle with a radius of \" + str(radius),\n",
        "#     \"inches has a circumference of \" + str(circumference) + \" inches.\")\n",
        "\n",
        "\n",
        "###################################################\n",
        "# Expected output\n",
        "# Student should look at the following comments and compare to printed output.\n",
        "\n",
        "# Test 1 output:\n",
        "#A circle with a radius of 8 inches has an area of 200.96 square inches.\n",
        "\n",
        "# Test 2 output:\n",
        "#A circle with a radius of 3 inches has an area of 28.26 square inches.\n",
        "\n",
        "# Test 3 output:\n",
        "#A circle with a radius of 12.9 inches has an area of 522.5274 square inches.\n"
      ],
      "metadata": {
        "colab": {
          "base_uri": "https://localhost:8080/"
        },
        "id": "sLOdRfh4aeNW",
        "outputId": "84deb7af-614a-49b2-f154-aed85b4cb42c"
      },
      "execution_count": 51,
      "outputs": [
        {
          "output_type": "stream",
          "name": "stdout",
          "text": [
            "A circle with a radius of 8 inches has a area of 200.96 inches.\n",
            "A circle with a radius of 3 inches has a area of 28.26 inches.\n",
            "A circle with a radius of 12.9 inches has a area of 522.5274000000001 inches.\n"
          ]
        }
      ]
    },
    {
      "cell_type": "code",
      "source": [
        "# Compute the future value of a given present value, annual rate, and number of years.\n",
        "\n",
        "###################################################\n",
        "# Tests\n",
        "# Student should uncomment ONLY ONE of the following at a time.\n",
        "\n",
        "# Test 1 - Select the following lines and use ctrl+shift+k to uncomment.\n",
        "present_value = 1000\n",
        "annual_rate = 7\n",
        "years = 10\n",
        "\n",
        "# Future value formula\n",
        "def future_value(dolars, r, y):\n",
        "  res = dolars * (1 + 0.01 * r)**(y)\n",
        "  return res\n",
        "\n",
        "annual_rate = future_value(present_value, annual_rate, years)\n",
        "\n",
        "print(\"The future value of $\" + str(present_value) + \" in \" + str(years),\n",
        "     \"years at an annual rate of \" + str(annual_rate) + \"% is $\" + str(future_value) + \".\")\n",
        "\n",
        "\n",
        "# Test 2 - Select the following lines and use ctrl+shift+k to uncomment.\n",
        "present_value = 200\n",
        "annual_rate = 4\n",
        "years = 5\n",
        "\n",
        "# Future value formula\n",
        "def future_value(dolars, r, y):\n",
        "  res = dolars * (1 + 0.01 * r)**(y)\n",
        "  return res\n",
        "\n",
        "annual_rate = future_value(present_value, annual_rate, years)\n",
        "\n",
        "print(\"The future value of $\" + str(present_value) + \" in \" + str(years),\n",
        "     \"years at an annual rate of \" + str(annual_rate) + \"% is $\" + str(future_value) + \".\")\n",
        "\n",
        "# Test 3 - Select the following lines and use ctrl+shift+k to uncomment.\n",
        "present_value = 1000\n",
        "annual_rate = 3\n",
        "years = 20\n",
        "\n",
        "# Future value formula\n",
        "def future_value(dolars, r, y):\n",
        "  res = dolars * (1 + 0.01 * r)**(y)\n",
        "  return res\n",
        "\n",
        "annual_rate = future_value(present_value, annual_rate, years)\n",
        "\n",
        "print(\"The future value of $\" + str(present_value) + \" in \" + str(years),\n",
        "     \"years at an annual rate of \" + str(annual_rate) + \"% is $\" + str(future_value) + \".\")\n",
        "\n",
        "###################################################\n",
        "# Future value formula\n",
        "# Student should enter formula on the next line.\n",
        "\n",
        "\n",
        "\n",
        "###################################################\n",
        "# Test output\n",
        "# Student should not change this code.\n",
        "\n",
        "#print(\"The future value of $\" + str(present_value) + \" in \" + str(years),\n",
        "#     \"years at an annual rate of \" + str(annual_rate) + \"% is $\" + str(future_value) + \".\")\n",
        "\n",
        "\n",
        "###################################################\n",
        "# Expected output\n",
        "# Student should look at the following comments and compare to printed output.\n",
        "\n",
        "# Test 1 output:\n",
        "#The future value of $1000 in 10 years at an annual rate of 7% is $1967.15135729.\n",
        "\n",
        "# Test 2 output:\n",
        "#The future value of $200 in 5 years at an annual rate of 4% is $243.33058048.\n",
        "\n",
        "# Test 3 output:\n",
        "#The future value of $1000 in 20 years at an annual rate of 3% is $1806.11123467.\n"
      ],
      "metadata": {
        "colab": {
          "base_uri": "https://localhost:8080/"
        },
        "id": "EJV6Hb4Bb-tu",
        "outputId": "70d23796-ff49-4e78-c716-6cb0481eaaf4"
      },
      "execution_count": 54,
      "outputs": [
        {
          "output_type": "stream",
          "name": "stdout",
          "text": [
            "The future value of $1000 in 10 years at an annual rate of 1967.1513572895665% is $<function future_value at 0x7fe01dff68c0>.\n",
            "The future value of $200 in 5 years at an annual rate of 243.33058048000004% is $<function future_value at 0x7fe01dff28c0>.\n",
            "The future value of $1000 in 20 years at an annual rate of 1806.111234669415% is $<function future_value at 0x7fe01e03a0e0>.\n"
          ]
        }
      ]
    },
    {
      "cell_type": "markdown",
      "source": [
        "# Quiz 0"
      ],
      "metadata": {
        "id": "ZU1s1cFct9TD"
      }
    },
    {
      "cell_type": "code",
      "source": [
        "# CodeSkulptor runs Python programs in your browser.\n",
        "# Click the upper left button to run this simple demo.\n",
        "\n",
        "# CodeSkulptor is tested to run in recent versions of\n",
        "# Chrome, Firefox, Safari, and Edge.\n",
        "\n",
        "import simplegui\n",
        "\n",
        "message = \"Welcome!\"\n",
        "\n",
        "# Handler for mouse click\n",
        "def click():\n",
        "    global message\n",
        "    message = \"Good job!\"\n",
        "\n",
        "# Handler to draw on canvas\n",
        "def draw(canvas):\n",
        "    canvas.draw_text(message, [50,112], 48, \"Red\")\n",
        "\n",
        "# Create a frame and assign callbacks to event handlers\n",
        "frame = simplegui.create_frame(\"Home\", 300, 200)\n",
        "frame.add_button(\"Click me\", click)\n",
        "frame.set_draw_handler(draw)\n",
        "\n",
        "# Start the frame animation\n",
        "frame.start()"
      ],
      "metadata": {
        "id": "NyxWH8TSueyL"
      },
      "execution_count": null,
      "outputs": []
    },
    {
      "cell_type": "code",
      "source": [
        "tax_rate = 0.15\n",
        "income = 40000\n",
        "deduction = 10000\n",
        "\n",
        "# Calculate income taxes\n",
        "tax = (income - deduction) * tax_rate\n",
        "print(tax)"
      ],
      "metadata": {
        "colab": {
          "base_uri": "https://localhost:8080/"
        },
        "id": "iFOfHkrBt-_x",
        "outputId": "7b44091c-9642-493f-df56-52d428af71dc"
      },
      "execution_count": 58,
      "outputs": [
        {
          "output_type": "stream",
          "name": "stdout",
          "text": [
            "4500.0\n"
          ]
        }
      ]
    }
  ]
}